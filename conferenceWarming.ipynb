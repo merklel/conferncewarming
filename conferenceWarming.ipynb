{
  "cells": [],
  "metadata": {
    "language_info": {
      "codemirror_mode": {
        "name": "ipython",
        "version": 2
      },
      "file_extension": ".py",
      "mimetype": "text/x-python",
      "name": "python",
      "nbconvert_exporter": "python",
      "pygments_lexer": "ipython2",
      "version": "2.7.6"
    },
    "kernelspec": {
      "name": "python3",
      "language": "python",
      "display_name": "Python 3"
    },
    "stem_cell": {
      "cell_type": "raw",
      "source": "#ConferneceWarming\n\n## 1. Imports\n\nimport pandas as pd\nimport geopandas as gpd\nfrom shapely.geometry import Point\n\n## 2. Load data\n\nieee_itsc_2018 \u003d pd.\n\ni \u003d3",
      "metadata": {
        "pycharm": {
          "metadata": false
        }
      }
    }
  },
  "nbformat": 4,
  "nbformat_minor": 0
}