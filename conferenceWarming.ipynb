{
  "cells": [
    {
      "cell_type": "markdown",
      "source": "# ConferneceWarming\n\n\n### 1. Imports",
      "metadata": {
        "pycharm": {
          "metadata": false
        }
      }
    },
    {
      "cell_type": "code",
      "execution_count": 2,
      "outputs": [],
      "source": "import pandas as pd\n#import geopandas as gpd\n#from shapely.geometry import Point\n",
      "metadata": {
        "pycharm": {
          "metadata": false,
          "name": "#%%\n",
          "is_executing": false
        }
      }
    },
    {
      "cell_type": "markdown",
      "source": "### 2. Load Data",
      "metadata": {
        "pycharm": {
          "metadata": false
        }
      }
    },
    {
      "cell_type": "code",
      "execution_count": 7,
      "outputs": [
        {
          "name": "stdout",
          "text": [
            "0      Department of Civil \u0026 Environmental Engineerin...\n1      Institute for Intelligent Transportation Syste...\n2      Intelligent Systems Lab (LSI) Research Group, ...\n3      Research Center of Intelligent Transportation ...\n4      Intelligent Systems Lab (LSI) Research Group, ...\n5      Department of Electrical Engineering, Universi...\n6      National Engineering, Research Centre of Rail ...\n7      Guangdong Key Laboratory of Intelligent Transp...\n8      Intelligent Transportation Systems Research Ce...\n9      Faculty of Science, Department of Mathematics,...\n10     Center for Sustainable Mobility, Virginia Tech...\n11     State Key Laboratory for Management and Contro...\n12     Center for Sustainable Mobility at the Virgini...\n13     Division of Mathematics Electronics and Inform...\n14     Institute for Intelligent Transportation Syste...\n15     Ministry of Education, Tongji University, The ...\n16     Department of Applied Electronics, Tokyo Unive...\n17     Center for Sustainable Mobility, Virginia Tech...\n18     National Engineering Research Center Of Rail T...\n19     Department of Automation, Tsinghua University,...\n20     Senior Travel Demand Modeler at Cambridge Syst...\n21     School of Electrical and Electronic Engineerin...\n22     Lawrence Berkeley National Laboratory, Berkele...\n23     ETH Zürich, Institute for Dynamic Systems and ...\n24     Institute of Transportation Systems, German Ae...\n25     Department of Systems Engineering and Engineer...\n26     ETH, Institute for Dynamic Systems and Control...\n27     School of Computer Science, University of Nott...\n28     Department of Informatics, Technical Universit...\n29     Department of Systems Innovation, School of En...\n                             ...                        \n572    Institute for Aerospace Technology, The Univer...\n573    FZI Research Center for Information Technology...\n574    Department of Electrical and Computer Engineer...\n575    Transport \u0026 Planning, TU Delft, Delft, The Net...\n576    Centre for Transport Studies, Imperial College...\n577    TU Braunschweig, Institute of Control Engineer...\n578               NA; NA; NA; NA; NA; NA; NA; NA; NA; NA\n579    Bordeaux INP, CNRS, UMR 5218, IMS Laboratory, ...\n580    Department of Mechanical and Aerospace Enginee...\n581    Department of Civil and Environmental Engineer...\n582    Institute of Control Engineering, Technische U...\n583    Daimler AG, Wilhelm-Runge-Str. 11, Ulm, 89081,...\n584    Department of Mechanical Engineering, Universi...\n585    State Key Laboratory of Automotive Simulation ...\n586    Department of Mechanical Engineering, Universi...\n587             India; India; India; India; India; India\n588    MIT-Portugal Program, CERIS, Instituto Superio...\n589    Dipartimento di Elettronica, Informazione e Bi...\n590    Graduate School of Environment and Energy Engi...\n591    Control and Microtechnology, Ulm University, t...\n592    School of Mechanical Engineering, Beijing Inst...\n593    School of Information Science and Engineering,...\n594    Department of Mechanical Engineering, Universi...\n595    Institute of Artificial Intelligence and Robot...\n596    Tsinghua-Berkeley Shenzhen Institute (TBSI), T...\n597    Mercedes-Benz Research and Development North A...\n598    Department of Civil and Environmental Engineer...\n599    Ministry of Education, Tongji University, The ...\n600    Department of Automotive Engineering, Tsinghua...\n601                                                  NaN\nName: Author Affiliations, Length: 602, dtype: object\n"
          ],
          "output_type": "stream"
        }
      ],
      "source": "ieee_itsc_2018 \u003d pd.read_csv(\"data/conferences/IEEE ITSC/IEEE_ITSC_2018.csv\")\nieee_itsc_2018.head()\n\nprint(ieee_itsc_2018[\u0027Author Affiliations\u0027])\n\nieee_itsc_2018[\u0027cropped_affiliantions\u0027] \u003d ieee_itsc_2018[\u0027Author Affiliations\u0027].\n\n\n\n",
      "metadata": {
        "pycharm": {
          "metadata": false,
          "name": "#%%\n",
          "is_executing": false
        }
      }
    }
  ],
  "metadata": {
    "language_info": {
      "codemirror_mode": {
        "name": "ipython",
        "version": 2
      },
      "file_extension": ".py",
      "mimetype": "text/x-python",
      "name": "python",
      "nbconvert_exporter": "python",
      "pygments_lexer": "ipython2",
      "version": "2.7.6"
    },
    "kernelspec": {
      "name": "python3",
      "language": "python",
      "display_name": "Python 3"
    },
    "stem_cell": {
      "cell_type": "raw",
      "source": "",
      "metadata": {
        "pycharm": {
          "metadata": false
        }
      }
    }
  },
  "nbformat": 4,
  "nbformat_minor": 0
}